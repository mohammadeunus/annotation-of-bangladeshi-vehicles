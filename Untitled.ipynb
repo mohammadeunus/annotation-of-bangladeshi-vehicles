{
 "cells": [
  {
   "cell_type": "code",
   "execution_count": 73,
   "metadata": {},
   "outputs": [],
   "source": [
    "import os\n",
    "import numpy as np\n",
    "import re\n",
    "from tqdm import tqdm"
   ]
  },
  {
   "cell_type": "code",
   "execution_count": 102,
   "metadata": {},
   "outputs": [],
   "source": [
    "path = r\"D:\\Car annotations\\Labelled Gang\\Siddharth\"\n",
    "l = os.listdir(path)\n",
    "c = 0\n",
    "while c < len(l)-1:\n",
    "    j = l[c]\n",
    "    t = l[c+1]\n",
    "    if (j.endswith(\".jpg\") or j.endswith(\".JPG\") or j.endswith(\".PNG\"))  and t.endswith(\".txt\"):\n",
    "        c+=2\n",
    "    else:\n",
    "        os.remove(\"{}\\{}\".format(path, j))\n",
    "        c+=1\n",
    "\n",
    "    "
   ]
  },
  {
   "cell_type": "code",
   "execution_count": null,
   "metadata": {},
   "outputs": [],
   "source": []
  },
  {
   "cell_type": "code",
   "execution_count": 5,
   "metadata": {},
   "outputs": [],
   "source": [
    "p = \"1043.jpg\"\n",
    "    x = re.search(\"\\d+\", p).group()\n",
    "x = re.search(\"\\d+\", p).group()"
   ]
  },
  {
   "cell_type": "code",
   "execution_count": 35,
   "metadata": {},
   "outputs": [],
   "source": [
    "import difflib\n",
    "p = \"1043.jpg\"\n",
    "x = re.search(\"\\d+\", p).group()\n",
    "\n",
    "q = \"1043.txt\"\n",
    "y = re.search(\"\\d+\", q).group()\n",
    "\n",
    "if x==y:\n",
    "    \n",
    "    \n",
    "# output_list = [li for li in difflib.ndiff(x, y) if li[0] != ' ']"
   ]
  },
  {
   "cell_type": "code",
   "execution_count": 33,
   "metadata": {},
   "outputs": [
    {
     "data": {
      "text/plain": [
       "'1043'"
      ]
     },
     "execution_count": 33,
     "metadata": {},
     "output_type": "execute_result"
    }
   ],
   "source": []
  },
  {
   "cell_type": "code",
   "execution_count": 17,
   "metadata": {},
   "outputs": [
    {
     "name": "stdout",
     "output_type": "stream",
     "text": [
      "  1\n",
      "  0\n",
      "  4\n",
      "  3\n",
      "  .\n",
      "- j\n",
      "- p\n",
      "- g\n",
      "+ t\n",
      "+ x\n",
      "+ t\n"
     ]
    }
   ],
   "source": []
  },
  {
   "cell_type": "code",
   "execution_count": null,
   "metadata": {},
   "outputs": [],
   "source": []
  }
 ],
 "metadata": {
  "kernelspec": {
   "display_name": "Python 3",
   "language": "python",
   "name": "python3"
  },
  "language_info": {
   "codemirror_mode": {
    "name": "ipython",
    "version": 3
   },
   "file_extension": ".py",
   "mimetype": "text/x-python",
   "name": "python",
   "nbconvert_exporter": "python",
   "pygments_lexer": "ipython3",
   "version": "3.7.4"
  }
 },
 "nbformat": 4,
 "nbformat_minor": 4
}
